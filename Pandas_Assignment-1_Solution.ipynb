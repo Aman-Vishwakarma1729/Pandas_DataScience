{
 "cells": [
  {
   "cell_type": "markdown",
   "id": "e03efaa9-5d67-42c7-8301-5dcc71e79bf0",
   "metadata": {},
   "source": [
    "#### Answer_1"
   ]
  },
  {
   "cell_type": "code",
   "execution_count": 26,
   "id": "4e5ebc51-c2b6-4c33-a244-34a4b57daa7c",
   "metadata": {},
   "outputs": [
    {
     "name": "stdout",
     "output_type": "stream",
     "text": [
      "0     4\n",
      "1     8\n",
      "2    15\n",
      "3    16\n",
      "4    23\n",
      "5    42\n",
      "dtype: int64\n"
     ]
    }
   ],
   "source": [
    "import pandas as pd\n",
    "\n",
    "lst_1 = [4,8,15,16,23,42]\n",
    "lst_1_series = pd.Series(lst_1)\n",
    "print(lst_1_series)"
   ]
  },
  {
   "cell_type": "markdown",
   "id": "8f15446b-2f9d-4291-94f4-7c1195ad1a75",
   "metadata": {},
   "source": [
    "#### Answer_2"
   ]
  },
  {
   "cell_type": "code",
   "execution_count": 30,
   "id": "fc17d641-9ecf-4a41-a603-dabf1dad456e",
   "metadata": {},
   "outputs": [
    {
     "name": "stdout",
     "output_type": "stream",
     "text": [
      "0     1\n",
      "1     2\n",
      "2     3\n",
      "3     4\n",
      "4     5\n",
      "5     6\n",
      "6     7\n",
      "7     8\n",
      "8     9\n",
      "9    10\n",
      "dtype: int64\n"
     ]
    }
   ],
   "source": [
    "lst_2 = [1,2,3,4,5,6,7,8,9,10]\n",
    "pd.Series(lst_2)\n",
    "print(pd.Series(lst_2))"
   ]
  },
  {
   "cell_type": "markdown",
   "id": "7dab80a8-4a9f-4d19-a5b2-b013a274ebfb",
   "metadata": {},
   "source": [
    "#### Answer_3"
   ]
  },
  {
   "cell_type": "code",
   "execution_count": 33,
   "id": "282fb5fe-5f2d-446e-aec1-dc57273c5623",
   "metadata": {},
   "outputs": [
    {
     "name": "stdout",
     "output_type": "stream",
     "text": [
      "     Name  Age  Gender\n",
      "0   Alice   25  Female\n",
      "1     Bob   30    Male\n",
      "2  Claire   27  Female\n"
     ]
    }
   ],
   "source": [
    "data = {\n",
    "    'Name' : ['Alice','Bob','Claire'],\n",
    "    'Age'  : [25,30,27],\n",
    "    'Gender' : ['Female','Male','Female']\n",
    "}\n",
    "\n",
    "datagframe = pd.DataFrame(data)\n",
    "print(datagframe)"
   ]
  },
  {
   "cell_type": "markdown",
   "id": "c675d004-b0dc-4ce1-8409-776d4cfda09d",
   "metadata": {},
   "source": [
    "#### Answer_4"
   ]
  },
  {
   "cell_type": "markdown",
   "id": "e5cdd229-7297-4159-a1ea-436077146fa8",
   "metadata": {},
   "source": [
    "##### In Pandas, a DataFrame is a two-dimensional tabular data structure consisting of rows and columns, similar to a spreadsheet or a SQL table. Each column in a DataFrame is a Series object.\n",
    "\n",
    "##### A Series is a one-dimensional array-like object that can hold any data type, such as integers, floats, strings, and so on. A DataFrame, on the other hand, is a two-dimensional object that can hold multiple Series objects of different data types."
   ]
  },
  {
   "cell_type": "code",
   "execution_count": 34,
   "id": "f38ba734-942d-4ece-b894-8dc1ed14bdab",
   "metadata": {},
   "outputs": [
    {
     "name": "stdout",
     "output_type": "stream",
     "text": [
      "0     4\n",
      "1     8\n",
      "2    15\n",
      "3    16\n",
      "4    23\n",
      "5    42\n",
      "dtype: int64\n"
     ]
    }
   ],
   "source": [
    "## Series Example\n",
    "print(lst_1_series)"
   ]
  },
  {
   "cell_type": "code",
   "execution_count": 35,
   "id": "aec57124-97ad-4e31-a25b-04e6a2b292a8",
   "metadata": {},
   "outputs": [
    {
     "name": "stdout",
     "output_type": "stream",
     "text": [
      "     Name  Age  Gender\n",
      "0   Alice   25  Female\n",
      "1     Bob   30    Male\n",
      "2  Claire   27  Female\n"
     ]
    }
   ],
   "source": [
    "## DataFrame Example\n",
    "print(datagframe)"
   ]
  },
  {
   "cell_type": "markdown",
   "id": "65cb2746-7f4f-4904-a2c1-83a943538a1a",
   "metadata": {},
   "source": [
    "#### Answer_5"
   ]
  },
  {
   "cell_type": "markdown",
   "id": "ae6da5a0-8c0d-43e4-acc2-3c76d798e339",
   "metadata": {},
   "source": [
    "#### Pandas provides a wide range of functions to manipulate data in a DataFrame. Here are some common functions and methods you can use:\n",
    "\n",
    "##### > head() and tail(): These methods allow you to view the first or last n rows of a DataFrame. For example, df.head(5) will show the first 5 rows of the DataFrame df.\n",
    "\n",
    "##### > describe(): This method provides a statistical summary of the DataFrame, including count, mean, standard deviation, and quartiles. For example, df.describe() will show the statistical summary of the DataFrame df.\n",
    "\n",
    "##### > groupby(): This method allows you to group the DataFrame by one or more columns and perform operations on each group. For example, df.groupby('category')['sales'].sum() will group the DataFrame df by the 'category' column and calculate the sum of the 'sales' column for each group.\n",
    "\n",
    "##### > pivot_table(): This method allows you to create a pivot table from a DataFrame. For example, pd.pivot_table(df, index='category', columns='year', values='sales', aggfunc=sum) will create a pivot table that shows the total sales for each category and year.\n",
    "\n",
    "##### > apply(): This method allows you to apply a function to each element of a DataFrame or a Series. For example, df['sales'].apply(lambda x: x * 2) will multiply each element in the 'sales' column by 2.\n",
    "\n",
    "##### > fillna(): This method allows you to fill missing values in a DataFrame with a specified value or method. For example, df.fillna(method='ffill') will fill missing values with the last known value in the DataFrame.\n",
    "\n",
    "##### > drop(): This method allows you to drop rows or columns from a DataFrame. For example, df.drop(['column1', 'column2'], axis=1) will drop the 'column1' and 'column2' columns from the DataFrame df."
   ]
  },
  {
   "cell_type": "markdown",
   "id": "67e71ce6-62cc-4784-a57a-bb0d2ab103c7",
   "metadata": {},
   "source": [
    "#### Answer_6"
   ]
  },
  {
   "cell_type": "markdown",
   "id": "a165c44a-929d-4b0b-8b5d-c4e718e55ba2",
   "metadata": {},
   "source": [
    "##### In Pandas, both Series and DataFrame are mutable in nature, meaning that you can modify their contents after they are created. However, Panel is an obsolete data structure in Pandas, and it has been removed in recent versions of the library. Therefore, it's not relevant to consider its mutability. Instead, you can use other Pandas data structures like DataFrame or MultiIndex to represent multi-dimensional data."
   ]
  },
  {
   "cell_type": "markdown",
   "id": "054c40f2-15c2-44de-8f04-5f6aa9b58324",
   "metadata": {},
   "source": [
    "#### Answer_7"
   ]
  },
  {
   "cell_type": "code",
   "execution_count": 74,
   "id": "67900901-8be5-40bc-8f0e-2ca90c026e85",
   "metadata": {},
   "outputs": [],
   "source": [
    "Team = ['Afghanistan', 'Australia', 'Bangladesh', 'England', 'ICC World XI']\n",
    "Matches_played = [6, 853, 136, 1060, 1]\n",
    "Matches_won = [3, 405, 16, 388, 0]\n",
    "Matches_lost = [3, 229, 102, 318, 1]"
   ]
  },
  {
   "cell_type": "code",
   "execution_count": 73,
   "id": "c05d4fe0-47b4-4836-ac62-fd98c8cd5072",
   "metadata": {},
   "outputs": [],
   "source": [
    "Team = pd.Series(Team, name = 'Team' )\n",
    "Matches_played = pd.Series(Matches_played , name = 'Matches_played')\n",
    "Matches_won = pd.Series(Matches_won , name = 'Matches_won')\n",
    "Matches_lost  = pd.Series(Matches_lost , name = 'Matches_lost ')"
   ]
  },
  {
   "cell_type": "code",
   "execution_count": 67,
   "id": "3732d0c9-963b-4e69-96a3-e951e89168fd",
   "metadata": {},
   "outputs": [
    {
     "data": {
      "text/plain": [
       "0     Afghanistan\n",
       "1       Australia\n",
       "2      Bangladesh\n",
       "3         England\n",
       "4    ICC World XI\n",
       "Name: Team, dtype: object"
      ]
     },
     "execution_count": 67,
     "metadata": {},
     "output_type": "execute_result"
    }
   ],
   "source": [
    "Team"
   ]
  },
  {
   "cell_type": "code",
   "execution_count": 68,
   "id": "7eb9dc30-74f6-4393-ac63-2cbf730e03dc",
   "metadata": {},
   "outputs": [
    {
     "data": {
      "text/plain": [
       "0       6\n",
       "1     853\n",
       "2     136\n",
       "3    1060\n",
       "4       1\n",
       "Name: Matches_played, dtype: int64"
      ]
     },
     "execution_count": 68,
     "metadata": {},
     "output_type": "execute_result"
    }
   ],
   "source": [
    "Matches_played"
   ]
  },
  {
   "cell_type": "code",
   "execution_count": 69,
   "id": "a386761a-06ad-4e4a-9859-fd0e07711aac",
   "metadata": {},
   "outputs": [
    {
     "data": {
      "text/plain": [
       "0      3\n",
       "1    405\n",
       "2     16\n",
       "3    388\n",
       "4      0\n",
       "Name: Matches_won, dtype: int64"
      ]
     },
     "execution_count": 69,
     "metadata": {},
     "output_type": "execute_result"
    }
   ],
   "source": [
    "Matches_won"
   ]
  },
  {
   "cell_type": "code",
   "execution_count": 70,
   "id": "3f058e0d-0c84-4c61-abe3-6e2a087000ad",
   "metadata": {},
   "outputs": [
    {
     "data": {
      "text/plain": [
       "0      3\n",
       "1    229\n",
       "2    102\n",
       "3    318\n",
       "4      1\n",
       "Name: Matches_lost , dtype: int64"
      ]
     },
     "execution_count": 70,
     "metadata": {},
     "output_type": "execute_result"
    }
   ],
   "source": [
    "Matches_lost"
   ]
  },
  {
   "cell_type": "code",
   "execution_count": 77,
   "id": "6d1d307c-50a8-4c67-9964-3b61317badcc",
   "metadata": {},
   "outputs": [
    {
     "name": "stdout",
     "output_type": "stream",
     "text": [
      "           Team  Matches_played  Matches_won  Matches_lost\n",
      "0   Afghanistan               6            3             3\n",
      "1     Australia             853          405           229\n",
      "2    Bangladesh             136           16           102\n",
      "3       England            1060          388           318\n",
      "4  ICC World XI               1            0             1\n"
     ]
    }
   ],
   "source": [
    "DATA = {\"Team\" : Team , \"Matches_played\" : Matches_played , \"Matches_won\" : Matches_won , \"Matches_lost\" : Matches_lost}\n",
    "dataframe = pd.DataFrame(DATA)\n",
    "print(dataframe)"
   ]
  },
  {
   "cell_type": "code",
   "execution_count": null,
   "id": "6935e63d-f47d-4efc-8fbb-65292c5661c1",
   "metadata": {},
   "outputs": [],
   "source": []
  }
 ],
 "metadata": {
  "kernelspec": {
   "display_name": "Python 3 (ipykernel)",
   "language": "python",
   "name": "python3"
  },
  "language_info": {
   "codemirror_mode": {
    "name": "ipython",
    "version": 3
   },
   "file_extension": ".py",
   "mimetype": "text/x-python",
   "name": "python",
   "nbconvert_exporter": "python",
   "pygments_lexer": "ipython3",
   "version": "3.10.8"
  }
 },
 "nbformat": 4,
 "nbformat_minor": 5
}
